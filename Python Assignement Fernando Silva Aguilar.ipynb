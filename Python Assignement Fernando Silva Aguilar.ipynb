{
 "cells": [
  {
   "cell_type": "markdown",
   "metadata": {},
   "source": [
    "# Fernando Silva Aguilar\n",
    "## Python Assignement"
   ]
  },
  {
   "cell_type": "markdown",
   "metadata": {},
   "source": [
    "# 1. Documenting the function."
   ]
  },
  {
   "cell_type": "markdown",
   "metadata": {},
   "source": [
    "This is to import the required packages for the program to run."
   ]
  },
  {
   "cell_type": "code",
   "execution_count": 1,
   "metadata": {
    "collapsed": true
   },
   "outputs": [],
   "source": [
    "from Bio import SeqIO\n",
    "from Bio.Data import CodonTable\n",
    "from Bio.Alphabet import SingleLetterAlphabet\n",
    "import pandas as pd\n",
    "import io\n",
    "import requests"
   ]
  },
  {
   "cell_type": "markdown",
   "metadata": {},
   "source": [
    "# 1. Function to get the sequences."
   ]
  },
  {
   "cell_type": "markdown",
   "metadata": {},
   "source": [
    "1. This is creating a function called get_sequences_from_file. Inside the brackets is a cmacro name that is going to be specified later when we invoke the function. This fasta_fn, should be the fasta file name including the format. The second line is saying to the program that we are going to print inside curly brackets the values from the subfunction sequence_data_dict (created later in the loop).\n",
    "\n",
    "2. For the \"for\" line we have the following: record is a random name assigned to the loop. SeqIO.parse is the function to read the fasta file (fasta_fn). Inside the brackets we have to give the name of the file, in our function will be fasta_fn, followed by the file format.\n",
    "\n",
    "3. Description line is a new variable in the loop to which we apply the function record.description.split, which is telling us that in the file record (random name we assigned), in the description stored values (fasta only store identifier, description, and sequence), apply the function of split, so the text is split into single words of the original text and creates new columns.\n",
    "\n",
    "4. Species_name line is used to to add the name of the species, by printing from the description variable created the columns 2 (position 1) and 3 (position 2) with a space between them. \n",
    "\n",
    "5. The line for \"sequence_data_dict\" is giving the values for the variable created before the for loop. Here we assigned the sequence of each species and paste just after the species_name.\n",
    "\n",
    "Then the return statement is to exit the function created.\n",
    "Then when we run the function get_sequences_from_file(fasta_fn) we will obtain a dictionary wherer the key will be the name of the species and the values is the sequence. "
   ]
  },
  {
   "cell_type": "code",
   "execution_count": 2,
   "metadata": {
    "collapsed": true
   },
   "outputs": [],
   "source": [
    "def get_sequences_from_file(fasta_fn):\n",
    "    sequence_data_dict = {}\n",
    "    for record in SeqIO.parse(fasta_fn, \"fasta\"):\n",
    "        description = record.description.split()\n",
    "        species_name = description[1] + \" \" + description[2]\n",
    "        sequence_data_dict[species_name] = record.seq\n",
    "    return(sequence_data_dict)"
   ]
  },
  {
   "cell_type": "markdown",
   "metadata": {},
   "source": [
    "# 2. String-Translate Function"
   ]
  },
  {
   "cell_type": "markdown",
   "metadata": {},
   "source": [
    "Next we create a function to translate the sequences into aminoacids.\n",
    "- First we call the function CodonTable.unambiguous_dna_by_name from the Biopython package.\n",
    "- Second we create a object equal to 3, to later recall it to split the sequences each 3 base pairs.\n",
    "- third, create the object codon in which we split the string every 3 nucleotides. The for in this line is doing a funtion range from position 0 to the total lenght of the object and divide by the object n in the step portion of the range().\n",
    "- Forth, we create the object aa_seq_string that is going to be filled later in the function.\n",
    "- Fifth, the for loop in here is saying the program that delete the last codon which is the stop codon (TAA, TAG, AGA, AGG). This is done by the function range, in the stop position as the lenght of the object -1 \"len(codon)-1\".\n",
    "- Sixth, we fill the aa_seq_string with the translation of the codons with the mito_table.forward_table function, and append that to have the whole amount of aminoacids in the object aa_seq_string.\n",
    "- Finally, we return the object aa_seq_string.\n",
    "\n",
    "If we want to get the translation from on key from the dictionary created before, we have to run like this:\n",
    "    translate_function(string_nucleotides[Key])\n",
    "Otherwise it will brng some errors."
   ]
  },
  {
   "cell_type": "code",
   "execution_count": 3,
   "metadata": {
    "collapsed": true
   },
   "outputs": [],
   "source": [
    "def translate_function(string_nucleotides): \n",
    "    mito_table = CodonTable.unambiguous_dna_by_name[\"Vertebrate Mitochondrial\"]\n",
    "    n =3\n",
    "    codon = [string_nucleotides[i:i+n] for i in range(0,len(string_nucleotides),n)]\n",
    "    aa_seq_string=[]\n",
    "    for w in range(0,len(codon)-1,1):\n",
    "        aa_seq_string.append(mito_table.forward_table[codon[w]]) \n",
    "    return(str(aa_seq_string))"
   ]
  },
  {
   "cell_type": "markdown",
   "metadata": {},
   "source": [
    "# 3. Alternative Function"
   ]
  },
  {
   "cell_type": "markdown",
   "metadata": {
    "slideshow": {
     "slide_type": "-"
    }
   },
   "source": [
    "An alternative way to translate the string is using the function translate function from Biopython.\n",
    "This function works only for valus from a fasta file, so it force us to load the packages from biopython of allphabet \"SingleLetterAlphabet\" so we can interpret the sequence in the dictionary created in the first function \"get_sequences_from_file\".\n",
    "- First we have to load the package seq from biopython.\n",
    "- Inside the function translates we specify the type of table we want to work with because otherwise we will work with the default table from NCBI. Equally we specify if we have stop codon and if once he found it we have to stop the tranlation. More information is found in [link](http://biopython.org/DIST/docs/tutorial/Tutorial.html#htoc25).\n",
    "This are the options of the function translate:\n",
    "translate(sequence, table='Standard', stop_symbol='*', to_stop=False, cds=False, gap=None)\n",
    "\n",
    "This function only works for values inside a dictionary, then when called we have to specify the key, for example string_nucleotides[\"key value\"]."
   ]
  },
  {
   "cell_type": "code",
   "execution_count": 4,
   "metadata": {
    "collapsed": true
   },
   "outputs": [],
   "source": [
    "from Bio.Seq import Seq\n",
    "def alt_trans_function(string_nucleotides): \n",
    "    aa_seq_string = string_nucleotides.translate(table=\"Vertebrate Mitochondrial\", to_stop=True)\n",
    "    return(str(aa_seq_string))"
   ]
  },
  {
   "cell_type": "markdown",
   "metadata": {
    "collapsed": true
   },
   "source": [
    "# 4. Molecular Weight of Aminoacid Sequence"
   ]
  },
  {
   "cell_type": "markdown",
   "metadata": {},
   "source": [
    "To measure the molecular weight we have to load the package SeqUtils.ProtParam from Biopython.\n",
    "Then we invoke the function proteinanazlysis and molecular_weight. Conditions of this function is that the input sequence of aminoacids has to be a string, so in our case we have to work with the output of the alternative or the translate function."
   ]
  },
  {
   "cell_type": "code",
   "execution_count": 5,
   "metadata": {
    "collapsed": true
   },
   "outputs": [],
   "source": [
    "from Bio.SeqUtils.ProtParam import ProteinAnalysis\n",
    "def compute_molecular_weight(aa_seq):\n",
    "    analysed_seq = ProteinAnalysis(aa_seq)\n",
    "    weight = analysed_seq.molecular_weight()\n",
    "    return(weight)"
   ]
  },
  {
   "cell_type": "markdown",
   "metadata": {},
   "source": [
    "# 6. GC Content Analysis"
   ]
  },
  {
   "cell_type": "markdown",
   "metadata": {},
   "source": [
    "The function below is to count the number of G and C in the sequence. Fist we create an object (str) with the base pairs we do not want to count. Second we return the value with a for loop  of the G and C, as those elements in sequence (sequence has to be a string), that are not present in the object AT."
   ]
  },
  {
   "cell_type": "code",
   "execution_count": 6,
   "metadata": {
    "collapsed": true
   },
   "outputs": [],
   "source": [
    "def GC_content(sequence):\n",
    "    AT = \"A T\"\n",
    "    A = len([GC for GC in sequence if GC not in AT])\n",
    "    g = A/len(sequence)\n",
    "    return(g)"
   ]
  },
  {
   "cell_type": "markdown",
   "metadata": {},
   "source": [
    "# 7. MAIN FUNCTION"
   ]
  },
  {
   "cell_type": "markdown",
   "metadata": {},
   "source": [
    "In order to read the files I work with the packages io and request. This will avoid the use of local files and instead we can download the files from the internet. I create a copy called mass1 in order to then create a full copy.  "
   ]
  },
  {
   "cell_type": "code",
   "execution_count": 7,
   "metadata": {},
   "outputs": [
    {
     "data": {
      "text/html": [
       "<div>\n",
       "<style>\n",
       "    .dataframe thead tr:only-child th {\n",
       "        text-align: right;\n",
       "    }\n",
       "\n",
       "    .dataframe thead th {\n",
       "        text-align: left;\n",
       "    }\n",
       "\n",
       "    .dataframe tbody tr th {\n",
       "        vertical-align: top;\n",
       "    }\n",
       "</style>\n",
       "<table border=\"1\" class=\"dataframe\">\n",
       "  <thead>\n",
       "    <tr style=\"text-align: right;\">\n",
       "      <th></th>\n",
       "      <th>species</th>\n",
       "      <th>mass</th>\n",
       "    </tr>\n",
       "  </thead>\n",
       "  <tbody>\n",
       "    <tr>\n",
       "      <th>0</th>\n",
       "      <td>Aptenodytes forsteri</td>\n",
       "      <td>28.00</td>\n",
       "    </tr>\n",
       "    <tr>\n",
       "      <th>1</th>\n",
       "      <td>Aptenodytes patagonicus</td>\n",
       "      <td>13.40</td>\n",
       "    </tr>\n",
       "    <tr>\n",
       "      <th>2</th>\n",
       "      <td>Eudyptes chrysocome</td>\n",
       "      <td>2.80</td>\n",
       "    </tr>\n",
       "    <tr>\n",
       "      <th>3</th>\n",
       "      <td>Eudyptes chrysolophus</td>\n",
       "      <td>4.50</td>\n",
       "    </tr>\n",
       "    <tr>\n",
       "      <th>4</th>\n",
       "      <td>Eudyptes sclateri</td>\n",
       "      <td>4.25</td>\n",
       "    </tr>\n",
       "    <tr>\n",
       "      <th>5</th>\n",
       "      <td>Eudyptula minor</td>\n",
       "      <td>1.60</td>\n",
       "    </tr>\n",
       "    <tr>\n",
       "      <th>6</th>\n",
       "      <td>Pygoscelis adeliae</td>\n",
       "      <td>4.60</td>\n",
       "    </tr>\n",
       "    <tr>\n",
       "      <th>7</th>\n",
       "      <td>Pygoscelis antarctica</td>\n",
       "      <td>4.10</td>\n",
       "    </tr>\n",
       "    <tr>\n",
       "      <th>8</th>\n",
       "      <td>Pygoscelis papua</td>\n",
       "      <td>6.10</td>\n",
       "    </tr>\n",
       "    <tr>\n",
       "      <th>9</th>\n",
       "      <td>Spheniscus demersus</td>\n",
       "      <td>3.20</td>\n",
       "    </tr>\n",
       "    <tr>\n",
       "      <th>10</th>\n",
       "      <td>Spheniscus humboldti</td>\n",
       "      <td>4.75</td>\n",
       "    </tr>\n",
       "    <tr>\n",
       "      <th>11</th>\n",
       "      <td>Spheniscus magellanicus</td>\n",
       "      <td>3.40</td>\n",
       "    </tr>\n",
       "  </tbody>\n",
       "</table>\n",
       "</div>"
      ],
      "text/plain": [
       "                    species   mass\n",
       "0      Aptenodytes forsteri  28.00\n",
       "1   Aptenodytes patagonicus  13.40\n",
       "2       Eudyptes chrysocome   2.80\n",
       "3     Eudyptes chrysolophus   4.50\n",
       "4         Eudyptes sclateri   4.25\n",
       "5           Eudyptula minor   1.60\n",
       "6        Pygoscelis adeliae   4.60\n",
       "7     Pygoscelis antarctica   4.10\n",
       "8          Pygoscelis papua   6.10\n",
       "9       Spheniscus demersus   3.20\n",
       "10     Spheniscus humboldti   4.75\n",
       "11  Spheniscus magellanicus   3.40"
      ]
     },
     "execution_count": 7,
     "metadata": {},
     "output_type": "execute_result"
    }
   ],
   "source": [
    "url = \"https://raw.githubusercontent.com/fsilvaag/BCB546X-Fall2017/master/Python_Assignment/penguins_mass.csv\"\n",
    "file = requests.get(url).content\n",
    "penguins_df1 =pd.read_csv(io.StringIO(file.decode('utf-8')))\n",
    "penguins_df = penguins_df1.copy()\n",
    "penguins_df"
   ]
  },
  {
   "cell_type": "markdown",
   "metadata": {},
   "source": [
    "To read the file in \"penguins_cytb.fasta\"we can use the package urllib and the module urlretrieve to read directly from internet (github in our case) the file. We have to give the exact url followed by the name of the file we want to import (penguins_cytb.fasta). "
   ]
  },
  {
   "cell_type": "code",
   "execution_count": 8,
   "metadata": {},
   "outputs": [
    {
     "data": {
      "text/plain": [
       "('penguins_cytb.fasta', <http.client.HTTPMessage at 0x236a17d81d0>)"
      ]
     },
     "execution_count": 8,
     "metadata": {},
     "output_type": "execute_result"
    }
   ],
   "source": [
    "import urllib.request\n",
    "urllib.request.urlretrieve('https://raw.githubusercontent.com/EEOB-BioData/BCB546X-Fall2017/master/Python_Assignment/penguins_cytb.fasta', 'penguins_cytb.fasta')"
   ]
  },
  {
   "cell_type": "markdown",
   "metadata": {},
   "source": [
    "The following is to read the file penguins_cytb.fasta and create the dictionary we especify in the first function."
   ]
  },
  {
   "cell_type": "code",
   "execution_count": 9,
   "metadata": {
    "collapsed": true
   },
   "outputs": [],
   "source": [
    "cytb_seqs = get_sequences_from_file(\"penguins_cytb.fasta\")\n",
    "species_list = list(penguins_df.species)"
   ]
  },
  {
   "cell_type": "markdown",
   "metadata": {},
   "source": [
    "# 6. Creation of two columns with values NaN\n",
    "we can create the two new columns Moleculare Weight (Mole_Weight) and GC Content (GC_Content) and assigned the values NaN by using the function of pandas, concat and dataframes. The later function is to indicate the name and amount of columns to be added. By default python assign the values NaN if we do not specify any value.\n",
    "The new columns will be included in an alphabetic order, then first will appear GC_Content, followed by Mole_weight, mass and species."
   ]
  },
  {
   "cell_type": "code",
   "execution_count": null,
   "metadata": {
    "collapsed": true
   },
   "outputs": [],
   "source": [
    "pd.concat([penguins_df, pd.DataFrame(columns = [ 'Mole_weight', 'GC_Content'])]) \n",
    "# I would avoid this step and will create the columns at the same time I create the values for each  one"
   ]
  },
  {
   "cell_type": "markdown",
   "metadata": {},
   "source": [
    "# 7. Molecular Weight and GC Content"
   ]
  },
  {
   "cell_type": "markdown",
   "metadata": {},
   "source": [
    "The following loop is to create the columns Mole_weight and GC_Content with their respectives values.\n",
    "\n",
    "TAA, TAG, AGA, AGG\n"
   ]
  },
  {
   "cell_type": "code",
   "execution_count": 10,
   "metadata": {},
   "outputs": [
    {
     "data": {
      "text/html": [
       "<div>\n",
       "<style>\n",
       "    .dataframe thead tr:only-child th {\n",
       "        text-align: right;\n",
       "    }\n",
       "\n",
       "    .dataframe thead th {\n",
       "        text-align: left;\n",
       "    }\n",
       "\n",
       "    .dataframe tbody tr th {\n",
       "        vertical-align: top;\n",
       "    }\n",
       "</style>\n",
       "<table border=\"1\" class=\"dataframe\">\n",
       "  <thead>\n",
       "    <tr style=\"text-align: right;\">\n",
       "      <th></th>\n",
       "      <th>species</th>\n",
       "      <th>mass</th>\n",
       "      <th>Mole_Weight</th>\n",
       "      <th>GC_Content</th>\n",
       "    </tr>\n",
       "  </thead>\n",
       "  <tbody>\n",
       "    <tr>\n",
       "      <th>0</th>\n",
       "      <td>Aptenodytes forsteri</td>\n",
       "      <td>28.00</td>\n",
       "      <td>42459.6021</td>\n",
       "      <td>0.483815</td>\n",
       "    </tr>\n",
       "    <tr>\n",
       "      <th>1</th>\n",
       "      <td>Aptenodytes patagonicus</td>\n",
       "      <td>13.40</td>\n",
       "      <td>42563.7067</td>\n",
       "      <td>0.496938</td>\n",
       "    </tr>\n",
       "    <tr>\n",
       "      <th>2</th>\n",
       "      <td>Eudyptes chrysocome</td>\n",
       "      <td>2.80</td>\n",
       "      <td>42475.5753</td>\n",
       "      <td>0.511811</td>\n",
       "    </tr>\n",
       "    <tr>\n",
       "      <th>3</th>\n",
       "      <td>Eudyptes chrysolophus</td>\n",
       "      <td>4.50</td>\n",
       "      <td>42445.5493</td>\n",
       "      <td>0.509186</td>\n",
       "    </tr>\n",
       "    <tr>\n",
       "      <th>4</th>\n",
       "      <td>Eudyptes sclateri</td>\n",
       "      <td>4.25</td>\n",
       "      <td>42475.5753</td>\n",
       "      <td>0.508311</td>\n",
       "    </tr>\n",
       "    <tr>\n",
       "      <th>5</th>\n",
       "      <td>Eudyptula minor</td>\n",
       "      <td>1.60</td>\n",
       "      <td>42491.6408</td>\n",
       "      <td>0.492563</td>\n",
       "    </tr>\n",
       "    <tr>\n",
       "      <th>6</th>\n",
       "      <td>Pygoscelis adeliae</td>\n",
       "      <td>4.60</td>\n",
       "      <td>42458.6140</td>\n",
       "      <td>0.490814</td>\n",
       "    </tr>\n",
       "    <tr>\n",
       "      <th>7</th>\n",
       "      <td>Pygoscelis antarctica</td>\n",
       "      <td>4.10</td>\n",
       "      <td>42404.5423</td>\n",
       "      <td>0.477690</td>\n",
       "    </tr>\n",
       "    <tr>\n",
       "      <th>8</th>\n",
       "      <td>Pygoscelis papua</td>\n",
       "      <td>6.10</td>\n",
       "      <td>42595.8759</td>\n",
       "      <td>0.471566</td>\n",
       "    </tr>\n",
       "    <tr>\n",
       "      <th>9</th>\n",
       "      <td>Spheniscus demersus</td>\n",
       "      <td>3.20</td>\n",
       "      <td>42431.5490</td>\n",
       "      <td>0.482940</td>\n",
       "    </tr>\n",
       "    <tr>\n",
       "      <th>10</th>\n",
       "      <td>Spheniscus humboldti</td>\n",
       "      <td>4.75</td>\n",
       "      <td>42399.5520</td>\n",
       "      <td>0.492563</td>\n",
       "    </tr>\n",
       "    <tr>\n",
       "      <th>11</th>\n",
       "      <td>Spheniscus magellanicus</td>\n",
       "      <td>3.40</td>\n",
       "      <td>42459.6021</td>\n",
       "      <td>0.482065</td>\n",
       "    </tr>\n",
       "  </tbody>\n",
       "</table>\n",
       "</div>"
      ],
      "text/plain": [
       "                    species   mass  Mole_Weight  GC_Content\n",
       "0      Aptenodytes forsteri  28.00   42459.6021    0.483815\n",
       "1   Aptenodytes patagonicus  13.40   42563.7067    0.496938\n",
       "2       Eudyptes chrysocome   2.80   42475.5753    0.511811\n",
       "3     Eudyptes chrysolophus   4.50   42445.5493    0.509186\n",
       "4         Eudyptes sclateri   4.25   42475.5753    0.508311\n",
       "5           Eudyptula minor   1.60   42491.6408    0.492563\n",
       "6        Pygoscelis adeliae   4.60   42458.6140    0.490814\n",
       "7     Pygoscelis antarctica   4.10   42404.5423    0.477690\n",
       "8          Pygoscelis papua   6.10   42595.8759    0.471566\n",
       "9       Spheniscus demersus   3.20   42431.5490    0.482940\n",
       "10     Spheniscus humboldti   4.75   42399.5520    0.492563\n",
       "11  Spheniscus magellanicus   3.40   42459.6021    0.482065"
      ]
     },
     "execution_count": 10,
     "metadata": {},
     "output_type": "execute_result"
    }
   ],
   "source": [
    "GC_Con = [] # This is to store the iterative values created for the GC_content\n",
    "Mol_Weight = [] # This is to store the iterative values created for the molecular weight\n",
    "\n",
    "for key, value in cytb_seqs.items():  #This is to recall the dictionary per key and value\n",
    "    if key in cytb_seqs: # To specify that the for loop is per each key.\n",
    "        transl = alt_trans_function(cytb_seqs[key]) #Translation of the sequences in aminoacids\n",
    "        weight = compute_molecular_weight(transl) # Computation of the molecular weight\n",
    "        Mol_Weight.append(weight) # Creation of a list of the values of molecuar weight per key\n",
    "        \n",
    "        GC = GC_content(cytb_seqs[key]) # Content of GC per key\n",
    "        GC_Con.append(GC) # Creation of a list of amount of GC per key\n",
    "\n",
    "penguins_df['Mole_Weight'] = Mol_Weight # Creates a new column with thevalues created in the for loop\n",
    "penguins_df['GC_Content'] = GC_Con # Creates a new column with thevalues created in the for loop\n",
    "penguins_df"
   ]
  },
  {
   "cell_type": "markdown",
   "metadata": {},
   "source": [
    "# 8. Plotting Mass vs Species Name"
   ]
  },
  {
   "cell_type": "markdown",
   "metadata": {},
   "source": [
    "First we have to impot the respective packages to make plots"
   ]
  },
  {
   "cell_type": "code",
   "execution_count": 11,
   "metadata": {
    "collapsed": true
   },
   "outputs": [],
   "source": [
    "import seaborn as sns\n",
    "import numpy as np"
   ]
  },
  {
   "cell_type": "code",
   "execution_count": 12,
   "metadata": {
    "collapsed": true
   },
   "outputs": [],
   "source": [
    "%matplotlib inline"
   ]
  },
  {
   "cell_type": "markdown",
   "metadata": {},
   "source": [
    "The graphic can be made with [seaborn](https://seaborn.pydata.org/api.html#categorical-api) by using the function [barplot](https://seaborn.pydata.org/generated/seaborn.barplot.html#seaborn.barplot)."
   ]
  },
  {
   "cell_type": "code",
   "execution_count": 13,
   "metadata": {},
   "outputs": [
    {
     "data": {
      "text/plain": [
       "[<matplotlib.text.Text at 0x236a71b63c8>,\n",
       " <matplotlib.text.Text at 0x236a71bc208>,\n",
       " <matplotlib.text.Text at 0x236a72613c8>,\n",
       " <matplotlib.text.Text at 0x236a7261da0>,\n",
       " <matplotlib.text.Text at 0x236a72697b8>,\n",
       " <matplotlib.text.Text at 0x236a726f1d0>,\n",
       " <matplotlib.text.Text at 0x236a726fba8>,\n",
       " <matplotlib.text.Text at 0x236a72765c0>,\n",
       " <matplotlib.text.Text at 0x236a7276f98>,\n",
       " <matplotlib.text.Text at 0x236a727e9b0>,\n",
       " <matplotlib.text.Text at 0x236a72833c8>,\n",
       " <matplotlib.text.Text at 0x236a7283da0>]"
      ]
     },
     "execution_count": 13,
     "metadata": {},
     "output_type": "execute_result"
    },
    {
     "data": {
      "image/png": "[encoded data removed]",
      "text/plain": [
       "<matplotlib.figure.Figure at 0x236a6b8e2b0>"
      ]
     },
     "metadata": {},
     "output_type": "display_data"
    }
   ],
   "source": [
    "my_fig = sns.barplot(x = 'species', y= 'mass', hue_order='species', data = penguins_df)\n",
    "my_fig.set_xticklabels(labels = penguins_df.species, rotation=30, horizontalalignment='right')"
   ]
  },
  {
   "cell_type": "markdown",
   "metadata": {},
   "source": [
    " **Q1 What is the smallest penguin species?** = The smallest species is Eudyptula minor, with a mass of 1.6.\n",
    " **Q2 What else is interesting about this species?** = This specie has one the largest content of GC and is the third specie with the largest molecular weight."
   ]
  },
  {
   "cell_type": "markdown",
   "metadata": {},
   "source": [
    "# 9. Plot Molecular weight Vs GC-content (x-axis)."
   ]
  },
  {
   "cell_type": "code",
   "execution_count": 14,
   "metadata": {},
   "outputs": [
    {
     "data": {
      "text/plain": [
       "<seaborn.axisgrid.FacetGrid at 0x236a7276d30>"
      ]
     },
     "execution_count": 14,
     "metadata": {},
     "output_type": "execute_result"
    },
    {
     "data": {
      "image/png": "[encoded data removed]",
      "text/plain": [
       "<matplotlib.figure.Figure at 0x236a7276b38>"
      ]
     },
     "metadata": {},
     "output_type": "display_data"
    }
   ],
   "source": [
    "my_fig1 = sns.lmplot(\"GC_Content\", \"Mole_Weight\", data=penguins_df, fit_reg=False, size=8, markers='D')\n",
    "my_fig1.set_axis_labels('GC Content (bp)', 'Molecular Weight (M)')"
   ]
  },
  {
   "cell_type": "markdown",
   "metadata": {},
   "source": [
    "# 10. New DataFrame"
   ]
  },
  {
   "cell_type": "markdown",
   "metadata": {},
   "source": [
    "To export the data frame as csv, we use the function [\"to_csv\"](http://pandas.pydata.org/pandas-docs/version/0.20.3/generated/pandas.DataFrame.to_csv.html) from pandas."
   ]
  },
  {
   "cell_type": "code",
   "execution_count": 15,
   "metadata": {
    "collapsed": true
   },
   "outputs": [],
   "source": [
    "penguins_df.to_csv('penguins_mass_cytb.csv', sep=',',index=False, encoding='utf-8', )"
   ]
  },
  {
   "cell_type": "markdown",
   "metadata": {},
   "source": [
    "# 11. BONUS "
   ]
  },
  {
   "cell_type": "markdown",
   "metadata": {},
   "source": [
    "According to the [Murphy et al. (1990)](https://sora.unm.edu/sites/default/files/journals/condor/v092n04/p0913-p0921.pdf) the aminoacids Serine (S), Proline (P), Alanine (A), Glutamine (Q), Asparagine (N), Asparti acid (D), Glycine (G), and Glutamine Acid (E), are non essential for the formationof the feather in penguins. The following function is to count the amount of non essential and essential amino acids in each species. "
   ]
  },
  {
   "cell_type": "code",
   "execution_count": 16,
   "metadata": {
    "collapsed": true
   },
   "outputs": [],
   "source": [
    "def essential(sequence):\n",
    "    Non_essential = \" S P A D G E Q N\"\n",
    "    return len([essen for essen in sequence if essen not in Non_essential])"
   ]
  },
  {
   "cell_type": "markdown",
   "metadata": {},
   "source": [
    "Then we proceed to make the count of essential amino acids per especies."
   ]
  },
  {
   "cell_type": "code",
   "execution_count": 17,
   "metadata": {},
   "outputs": [
    {
     "data": {
      "text/html": [
       "<div>\n",
       "<style>\n",
       "    .dataframe thead tr:only-child th {\n",
       "        text-align: right;\n",
       "    }\n",
       "\n",
       "    .dataframe thead th {\n",
       "        text-align: left;\n",
       "    }\n",
       "\n",
       "    .dataframe tbody tr th {\n",
       "        vertical-align: top;\n",
       "    }\n",
       "</style>\n",
       "<table border=\"1\" class=\"dataframe\">\n",
       "  <thead>\n",
       "    <tr style=\"text-align: right;\">\n",
       "      <th></th>\n",
       "      <th>species</th>\n",
       "      <th>mass</th>\n",
       "      <th>Mole_Weight</th>\n",
       "      <th>GC_Content</th>\n",
       "      <th>Total_aa</th>\n",
       "      <th>Essential</th>\n",
       "      <th>Non_Essential</th>\n",
       "      <th>%_Essential</th>\n",
       "    </tr>\n",
       "  </thead>\n",
       "  <tbody>\n",
       "    <tr>\n",
       "      <th>0</th>\n",
       "      <td>Aptenodytes forsteri</td>\n",
       "      <td>28.00</td>\n",
       "      <td>42459.6021</td>\n",
       "      <td>0.483815</td>\n",
       "      <td>380</td>\n",
       "      <td>236</td>\n",
       "      <td>144</td>\n",
       "      <td>0.621053</td>\n",
       "    </tr>\n",
       "    <tr>\n",
       "      <th>1</th>\n",
       "      <td>Aptenodytes patagonicus</td>\n",
       "      <td>13.40</td>\n",
       "      <td>42563.7067</td>\n",
       "      <td>0.496938</td>\n",
       "      <td>380</td>\n",
       "      <td>239</td>\n",
       "      <td>141</td>\n",
       "      <td>0.628947</td>\n",
       "    </tr>\n",
       "    <tr>\n",
       "      <th>2</th>\n",
       "      <td>Eudyptes chrysocome</td>\n",
       "      <td>2.80</td>\n",
       "      <td>42475.5753</td>\n",
       "      <td>0.511811</td>\n",
       "      <td>380</td>\n",
       "      <td>239</td>\n",
       "      <td>141</td>\n",
       "      <td>0.628947</td>\n",
       "    </tr>\n",
       "    <tr>\n",
       "      <th>3</th>\n",
       "      <td>Eudyptes chrysolophus</td>\n",
       "      <td>4.50</td>\n",
       "      <td>42445.5493</td>\n",
       "      <td>0.509186</td>\n",
       "      <td>380</td>\n",
       "      <td>238</td>\n",
       "      <td>142</td>\n",
       "      <td>0.626316</td>\n",
       "    </tr>\n",
       "    <tr>\n",
       "      <th>4</th>\n",
       "      <td>Eudyptes sclateri</td>\n",
       "      <td>4.25</td>\n",
       "      <td>42475.5753</td>\n",
       "      <td>0.508311</td>\n",
       "      <td>380</td>\n",
       "      <td>239</td>\n",
       "      <td>141</td>\n",
       "      <td>0.628947</td>\n",
       "    </tr>\n",
       "    <tr>\n",
       "      <th>5</th>\n",
       "      <td>Eudyptula minor</td>\n",
       "      <td>1.60</td>\n",
       "      <td>42491.6408</td>\n",
       "      <td>0.492563</td>\n",
       "      <td>380</td>\n",
       "      <td>238</td>\n",
       "      <td>142</td>\n",
       "      <td>0.626316</td>\n",
       "    </tr>\n",
       "    <tr>\n",
       "      <th>6</th>\n",
       "      <td>Pygoscelis adeliae</td>\n",
       "      <td>4.60</td>\n",
       "      <td>42458.6140</td>\n",
       "      <td>0.490814</td>\n",
       "      <td>380</td>\n",
       "      <td>235</td>\n",
       "      <td>145</td>\n",
       "      <td>0.618421</td>\n",
       "    </tr>\n",
       "    <tr>\n",
       "      <th>7</th>\n",
       "      <td>Pygoscelis antarctica</td>\n",
       "      <td>4.10</td>\n",
       "      <td>42404.5423</td>\n",
       "      <td>0.477690</td>\n",
       "      <td>380</td>\n",
       "      <td>237</td>\n",
       "      <td>143</td>\n",
       "      <td>0.623684</td>\n",
       "    </tr>\n",
       "    <tr>\n",
       "      <th>8</th>\n",
       "      <td>Pygoscelis papua</td>\n",
       "      <td>6.10</td>\n",
       "      <td>42595.8759</td>\n",
       "      <td>0.471566</td>\n",
       "      <td>380</td>\n",
       "      <td>238</td>\n",
       "      <td>142</td>\n",
       "      <td>0.626316</td>\n",
       "    </tr>\n",
       "    <tr>\n",
       "      <th>9</th>\n",
       "      <td>Spheniscus demersus</td>\n",
       "      <td>3.20</td>\n",
       "      <td>42431.5490</td>\n",
       "      <td>0.482940</td>\n",
       "      <td>380</td>\n",
       "      <td>235</td>\n",
       "      <td>145</td>\n",
       "      <td>0.618421</td>\n",
       "    </tr>\n",
       "    <tr>\n",
       "      <th>10</th>\n",
       "      <td>Spheniscus humboldti</td>\n",
       "      <td>4.75</td>\n",
       "      <td>42399.5520</td>\n",
       "      <td>0.492563</td>\n",
       "      <td>380</td>\n",
       "      <td>235</td>\n",
       "      <td>145</td>\n",
       "      <td>0.618421</td>\n",
       "    </tr>\n",
       "    <tr>\n",
       "      <th>11</th>\n",
       "      <td>Spheniscus magellanicus</td>\n",
       "      <td>3.40</td>\n",
       "      <td>42459.6021</td>\n",
       "      <td>0.482065</td>\n",
       "      <td>380</td>\n",
       "      <td>236</td>\n",
       "      <td>144</td>\n",
       "      <td>0.621053</td>\n",
       "    </tr>\n",
       "  </tbody>\n",
       "</table>\n",
       "</div>"
      ],
      "text/plain": [
       "                    species   mass  Mole_Weight  GC_Content  Total_aa  \\\n",
       "0      Aptenodytes forsteri  28.00   42459.6021    0.483815       380   \n",
       "1   Aptenodytes patagonicus  13.40   42563.7067    0.496938       380   \n",
       "2       Eudyptes chrysocome   2.80   42475.5753    0.511811       380   \n",
       "3     Eudyptes chrysolophus   4.50   42445.5493    0.509186       380   \n",
       "4         Eudyptes sclateri   4.25   42475.5753    0.508311       380   \n",
       "5           Eudyptula minor   1.60   42491.6408    0.492563       380   \n",
       "6        Pygoscelis adeliae   4.60   42458.6140    0.490814       380   \n",
       "7     Pygoscelis antarctica   4.10   42404.5423    0.477690       380   \n",
       "8          Pygoscelis papua   6.10   42595.8759    0.471566       380   \n",
       "9       Spheniscus demersus   3.20   42431.5490    0.482940       380   \n",
       "10     Spheniscus humboldti   4.75   42399.5520    0.492563       380   \n",
       "11  Spheniscus magellanicus   3.40   42459.6021    0.482065       380   \n",
       "\n",
       "    Essential  Non_Essential  %_Essential  \n",
       "0         236            144     0.621053  \n",
       "1         239            141     0.628947  \n",
       "2         239            141     0.628947  \n",
       "3         238            142     0.626316  \n",
       "4         239            141     0.628947  \n",
       "5         238            142     0.626316  \n",
       "6         235            145     0.618421  \n",
       "7         237            143     0.623684  \n",
       "8         238            142     0.626316  \n",
       "9         235            145     0.618421  \n",
       "10        235            145     0.618421  \n",
       "11        236            144     0.621053  "
      ]
     },
     "execution_count": 17,
     "metadata": {},
     "output_type": "execute_result"
    }
   ],
   "source": [
    "aa_essential = []\n",
    "total_aa = []\n",
    "for key, value in cytb_seqs.items():  #This is to recall the dictionary per key and value\n",
    "    if key in cytb_seqs: # To specify that the for loop is per each key.\n",
    "        transl = alt_trans_function(cytb_seqs[key]) #Translation of the sequences in aminoacids\n",
    "        count = essential(transl)\n",
    "        aa_essential.append(count)\n",
    "        total_aa.append(len(transl))\n",
    "\n",
    "penguins_df['Total_aa'] = total_aa # Creates a new column with thevalues created in the for loop\n",
    "penguins_df['Essential'] = aa_essential # Creates a new column with thevalues created in the for loop\n",
    "penguins_df['Non_Essential'] = penguins_df['Total_aa'] - penguins_df['Essential']\n",
    "penguins_df['%_Essential'] = penguins_df['Essential']/penguins_df['Total_aa']\n",
    "penguins_df\n",
    "        "
   ]
  },
  {
   "cell_type": "code",
   "execution_count": 18,
   "metadata": {},
   "outputs": [
    {
     "data": {
      "image/png": "[encoded data removed]",
      "text/plain": [
       "<matplotlib.figure.Figure at 0x236a7407c50>"
      ]
     },
     "metadata": {},
     "output_type": "display_data"
    }
   ],
   "source": [
    "import matplotlib.pyplot as plt\n",
    "\n",
    "ind = np.arange(len(penguins_df))    \n",
    "\n",
    "p1 = plt.bar(ind, penguins_df.Essential, color='#d62728')\n",
    "p2 = plt.bar(ind, penguins_df.Non_Essential)\n",
    "\n",
    "plt.ylabel('Amount of Amino Acids')\n",
    "plt.title('Essential and Non-Essential Aminoacids')\n",
    "plt.xticks(ind, penguins_df.species, rotation = 30, horizontalalignment = 'right' )\n",
    "plt.yticks(np.arange(0, 280, 40))\n",
    "plt.legend((p1[0], p2[0]), ('Essential', 'Non-Essential'), bbox_to_anchor=(1.01, 1.01))\n",
    "plt.show()"
   ]
  },
  {
   "cell_type": "code",
   "execution_count": 19,
   "metadata": {},
   "outputs": [
    {
     "data": {
      "text/plain": [
       "[<matplotlib.text.Text at 0x236a75fe390>,\n",
       " <matplotlib.text.Text at 0x236a789f2b0>,\n",
       " <matplotlib.text.Text at 0x236a793fb38>,\n",
       " <matplotlib.text.Text at 0x236a7945550>,\n",
       " <matplotlib.text.Text at 0x236a75ecc18>,\n",
       " <matplotlib.text.Text at 0x236a7859278>,\n",
       " <matplotlib.text.Text at 0x236a7945da0>,\n",
       " <matplotlib.text.Text at 0x236a794b748>,\n",
       " <matplotlib.text.Text at 0x236a7952160>,\n",
       " <matplotlib.text.Text at 0x236a7952b38>,\n",
       " <matplotlib.text.Text at 0x236a795a550>,\n",
       " <matplotlib.text.Text at 0x236a795af28>]"
      ]
     },
     "execution_count": 19,
     "metadata": {},
     "output_type": "execute_result"
    },
    {
     "data": {
      "image/png": "[encoded data removed]",
      "text/plain": [
       "<matplotlib.figure.Figure at 0x236a72aadd8>"
      ]
     },
     "metadata": {},
     "output_type": "display_data"
    }
   ],
   "source": [
    "my_fig2 = sns.barplot(x = 'species', y= '%_Essential', hue_order='species', data = penguins_df)\n",
    "my_fig2.set_xticklabels(labels = penguins_df.species, rotation=30, horizontalalignment='right')"
   ]
  }
 ],
 "metadata": {
  "kernelspec": {
   "display_name": "Python 3",
   "language": "python",
   "name": "python3"
  },
  "language_info": {
   "codemirror_mode": {
    "name": "ipython",
    "version": 3
   },
   "file_extension": ".py",
   "mimetype": "text/x-python",
   "name": "python",
   "nbconvert_exporter": "python",
   "pygments_lexer": "ipython3",
   "version": "3.6.2"
  }
 },
 "nbformat": 4,
 "nbformat_minor": 2
}
